{
 "cells": [
  {
   "cell_type": "code",
   "execution_count": 2,
   "metadata": {},
   "outputs": [
    {
     "name": "stdout",
     "output_type": "stream",
     "text": [
      "The rpy2.ipython extension is already loaded. To reload it, use:\n",
      "  %reload_ext rpy2.ipython\n"
     ]
    }
   ],
   "source": [
    "# make sure that rpy2 is installed: https://rpy2.bitbucket.io/\n",
    "%load_ext rpy2.ipython\n",
    "\n",
    "import warnings\n",
    "from rpy2.rinterface import RRuntimeWarning\n",
    "import rpy2.robjects as ro\n",
    "import rpy2.robjects.numpy2ri\n",
    "rpy2.robjects.numpy2ri.activate()\n",
    "\n",
    "# ignore R warning messages\n",
    "warnings.filterwarnings(\"ignore\", category=RRuntimeWarning)\n",
    "import anndata"
   ]
  },
  {
   "cell_type": "code",
   "execution_count": 5,
   "metadata": {},
   "outputs": [],
   "source": [
    "%%R -o N1_DAT -o N2_DAT -o N3_DAT -o cellinfo_N1 -o cellinfo_N2 -o cellinfo_N3 -o geneinfo_N1 -o geneinfo_N2 -o geneinfo_N3 -o N_DAT -o cellinfo -o geneinfo\n",
    "\n",
    "load('/home/wenhao/RAW_REAL/RAW_REAL/RAW_TUNG.RData')\n",
    "\n",
    "cellinfo_N1<-data.frame(Cell=colnames(N1_DAT))\n",
    "cellinfo_N2<-data.frame(Cell=colnames(N2_DAT))\n",
    "cellinfo_N3<-data.frame(Cell=colnames(N3_DAT))\n",
    "\n",
    "geneinfo_N1<-data.frame(Gene=rownames(N1_DAT))\n",
    "geneinfo_N2<-data.frame(Gene=rownames(N2_DAT))\n",
    "geneinfo_N3<-data.frame(Gene=rownames(N3_DAT))\n",
    "\n",
    "N1_DAT<-as.data.frame(t(N1_DAT))\n",
    "N2_DAT<-as.data.frame(t(N2_DAT))\n",
    "N3_DAT<-as.data.frame(t(N3_DAT))\n",
    "\n",
    "N_DAT<-rbind(N1_DAT,N2_DAT,N3_DAT)\n",
    "cellinfo<-rbind(cellinfo_N1,cellinfo_N2,cellinfo_N3)\n",
    "geneinfo<-geneinfo_N1\n",
    "\n",
    "\n"
   ]
  },
  {
   "cell_type": "code",
   "execution_count": 6,
   "metadata": {},
   "outputs": [
    {
     "name": "stderr",
     "output_type": "stream",
     "text": [
      "Using TensorFlow backend.\n"
     ]
    }
   ],
   "source": [
    "import numpy as np\n",
    "import matplotlib.pyplot as plt\n",
    "import seaborn as sns\n",
    "import scanpy.api as sc\n",
    "import DCA.api as dca"
   ]
  },
  {
   "cell_type": "code",
   "execution_count": 87,
   "metadata": {},
   "outputs": [
    {
     "data": {
      "text/plain": [
       "(564, 1)"
      ]
     },
     "execution_count": 87,
     "metadata": {},
     "output_type": "execute_result"
    }
   ],
   "source": [
    "N_DAT.shape\n",
    "cellinfo.shape"
   ]
  },
  {
   "cell_type": "code",
   "execution_count": 7,
   "metadata": {},
   "outputs": [
    {
     "data": {
      "text/plain": [
       "anndata.base.AnnData"
      ]
     },
     "execution_count": 7,
     "metadata": {},
     "output_type": "execute_result"
    }
   ],
   "source": [
    "\n",
    "adata_N1 = sc.AnnData(N1_DAT.values,var=geneinfo_N1,obs=cellinfo_N1)\n",
    "adata_N1.var_names = geneinfo_N1.Gene\n",
    "adata_N1.obs_names = cellinfo_N1.Cell\n",
    "adata_N1\n",
    "\n",
    "adata_N2 = sc.AnnData(N2_DAT.values,var=geneinfo_N2,obs=cellinfo_N2)\n",
    "adata_N2.var_names = geneinfo_N2.Gene\n",
    "adata_N2.obs_names = cellinfo_N2.Cell\n",
    "adata_N2\n",
    "\n",
    "adata_N3 = sc.AnnData(N3_DAT.values,var=geneinfo_N3,obs=cellinfo_N3)\n",
    "adata_N3.var_names = geneinfo_N3.Gene\n",
    "adata_N3.obs_names = cellinfo_N3.Cell\n",
    "adata_N3\n",
    "\n",
    "adata = sc.AnnData(N_DAT.values,var=geneinfo,obs=cellinfo)\n",
    "adata.var_names = geneinfo.Gene\n",
    "adata.obs_names = cellinfo.Cell\n",
    "adata\n",
    "# type(counts)\n",
    "# cellinfo\n",
    "type(adata_N1)\n",
    "type(adata_N2)\n",
    "type(adata_N3)"
   ]
  },
  {
   "cell_type": "code",
   "execution_count": 9,
   "metadata": {},
   "outputs": [
    {
     "name": "stdout",
     "output_type": "stream",
     "text": [
      "### Autoencoder: Successfully preprocessed 13058 genes and 564 cells.\n",
      "Calculating low dimensional representations...\n",
      "Calculating reconstructions...\n",
      "CPU times: user 14min 47s, sys: 7min 6s, total: 21min 54s\n",
      "Wall time: 3min 43s\n"
     ]
    }
   ],
   "source": [
    "%%time\n",
    "\n",
    "# res_N1 = dca.autoencode(adata_N1, training_kwargs={'verbose': False})\n",
    "# res_N2 = dca.autoencode(adata_N2, training_kwargs={'verbose': False})\n",
    "# res_N3 = dca.autoencode(adata_N3, training_kwargs={'verbose': False})\n",
    "res_N = dca.autoencode(adata, training_kwargs={'verbose': False})"
   ]
  },
  {
   "cell_type": "code",
   "execution_count": 18,
   "metadata": {},
   "outputs": [
    {
     "data": {
      "text/plain": [
       "(564, 13058)"
      ]
     },
     "execution_count": 18,
     "metadata": {},
     "output_type": "execute_result"
    }
   ],
   "source": [
    "#type(res_N1)\n",
    "# N1= res_N1.obsm['X_dca']\n",
    "# N2= res_N2.obsm['X_dca']\n",
    "# N3= res_N3.obsm['X_dca']\n",
    "\n",
    "# nr,nc = N1.shape\n",
    "# Br = ro.r.matrix(N1, nrow=nr, ncol=nc)\n",
    "# ro.r.assign(\"N1\", Br)\n",
    "\n",
    "\n",
    "# nr,nc = N2.shape\n",
    "# Br = ro.r.matrix(N2, nrow=nr, ncol=nc)\n",
    "# ro.r.assign(\"N2\", Br)\n",
    "\n",
    "# nr,nc = N3.shape\n",
    "# Br = ro.r.matrix(N3, nrow=nr, ncol=nc)\n",
    "# ro.r.assign(\"N3\", Br)\n",
    "\n",
    "\n",
    "NN= res_N.obsm['X_dca']\n",
    "nr,nc = NN.shape\n",
    "Br = ro.r.matrix(NN, nrow=nr, ncol=nc)\n",
    "ro.r.assign(\"NNN\", Br)\n",
    "NN.shape\n",
    "#np.save(\"/home/wenhao/RAW_REAL/DCA_norm/DCA_TungN1.npy\",N1)\n",
    "\n",
    "# np.savetxt('/home/wenhao/RAW_REAL/DCA_norm/DCA_TungN1.csv', res_N1.obsm['X_dca'], delimiter=\",\")\n",
    "# np.savetxt('/home/wenhao/RAW_REAL/DCA_norm/DCA_TungN2.csv', res_N2.obsm['X_dca'], delimiter=\",\")\n",
    "# np.savetxt('/home/wenhao/RAW_REAL/DCA_norm/DCA_TungN3.csv', res_N3.obsm['X_dca'], delimiter=\",\")"
   ]
  },
  {
   "cell_type": "code",
   "execution_count": 19,
   "metadata": {},
   "outputs": [],
   "source": [
    "%%R\n",
    "DCA_tungall<-t(NNN)\n",
    "rownames(DCA_tungall)<-geneinfo_N1[,1]\n",
    "colnames(DCA_tungall)<-cellinfo[,1]\n",
    "save(DCA_tungall,file='/home/wenhao/RAW_REAL/DCA_norm/DCA_Tungall.RData')"
   ]
  },
  {
   "cell_type": "code",
   "execution_count": 59,
   "metadata": {},
   "outputs": [
    {
     "name": "stdout",
     "output_type": "stream",
     "text": [
      "\n",
      "Error in dimnames(x) <- dn : \n",
      "  length of 'dimnames' [1] not equal to array extent\n"
     ]
    }
   ],
   "source": [
    "%%R\n",
    "N1<-t(N1)\n",
    "N2<-t(N2)\n",
    "N3<-t(N3)\n",
    "rownames(N1)<-geneinfo_N1[,1]\n",
    "colnames(N1)<-cellinfo_N1[,1]\n",
    "\n",
    "rownames(N2)<-geneinfo_N2[,1]\n",
    "colnames(N2)<-cellinfo_N2[,1]\n",
    "\n",
    "rownames(N3)<-geneinfo_N3[,1]\n",
    "colnames(N3)<-cellinfo_N3[,1]\n",
    "\n",
    "save(N1,file='/home/wenhao/RAW_REAL/DCA_norm/DCA_TungN1.RData')\n",
    "save(N2,file='/home/wenhao/RAW_REAL/DCA_norm/DCA_TungN2.RData')\n",
    "save(N3,file='/home/wenhao/RAW_REAL/DCA_norm/DCA_TungN3.RData')"
   ]
  },
  {
   "cell_type": "code",
   "execution_count": 64,
   "metadata": {},
   "outputs": [
    {
     "data": {
      "text/plain": [
       "(201, 13057)"
      ]
     },
     "execution_count": 64,
     "metadata": {},
     "output_type": "execute_result"
    }
   ],
   "source": [
    "#res_N1\n",
    "res_N2.obsm['X_dca'].shape\n",
    "\n",
    "\n",
    "# res_N1.write_csvs('/home/wenhao/RAW_REAL/DCA_norm/DCA_TungN1.csv')\n",
    "# res_N2.write_csvs('/home/wenhao/RAW_REAL/DCA_norm/DCA_TungN2.csv')\n",
    "# res_N3.write_csvs('/home/wenhao/RAW_REAL/DCA_norm/DCA_TungN3.csv')\n",
    "\n",
    "# res_N1.write('/home/wenhao/RAW_REAL/DCA_norm/DCA_TungN1.h5ad')\n",
    "# res_N2.write('/home/wenhao/RAW_REAL/DCA_norm/DCA_TungN2.h5ad')\n",
    "# res_N3.write('/home/wenhao/RAW_REAL/DCA_norm/DCA_TungN3.h5ad')\n",
    "\n"
   ]
  },
  {
   "cell_type": "code",
   "execution_count": 24,
   "metadata": {},
   "outputs": [
    {
     "data": {
      "text/plain": [
       "AnnData object with n_obs × n_vars = 142 × 13048 \n",
       "    obs: 'Cell', 'DCA_split', 'n_counts', 'size_factors'\n",
       "    var: 'Gene', 'n_counts'\n",
       "    uns: 'DCA_losses', 'pca'\n",
       "    obsm: 'X_dca', 'X_dca_mean', 'X_dca_hidden', 'X_dca_dropout', 'X_dca_dispersion', 'X_pca'\n",
       "    varm: 'PCs'"
      ]
     },
     "execution_count": 24,
     "metadata": {},
     "output_type": "execute_result"
    }
   ],
   "source": [
    "adata_N1.X = res_N1.obsm['X_dca']\n",
    "sc.pp.normalize_per_cell(adata_N1)\n",
    "sc.pp.log1p(adata_N1)\n",
    "sc.pp.pca(adata_N1)\n",
    "\n",
    "adata_N1"
   ]
  },
  {
   "cell_type": "code",
   "execution_count": 26,
   "metadata": {},
   "outputs": [
    {
     "data": {
      "image/png": "[encoded data removed]",
      "text/plain": [
       "<Figure size 445.882x288 with 1 Axes>"
      ]
     },
     "metadata": {},
     "output_type": "display_data"
    }
   ],
   "source": [
    "sc.pl.pca_scatter(adata_N1, size=20, title='Denoised counts')"
   ]
  }
 ],
 "metadata": {
  "kernelspec": {
   "display_name": "Python 3",
   "language": "python",
   "name": "python3"
  },
  "language_info": {
   "codemirror_mode": {
    "name": "ipython",
    "version": 3
   },
   "file_extension": ".py",
   "mimetype": "text/x-python",
   "name": "python",
   "nbconvert_exporter": "python",
   "pygments_lexer": "ipython3",
   "version": "3.6.5"
  }
 },
 "nbformat": 4,
 "nbformat_minor": 2
}
