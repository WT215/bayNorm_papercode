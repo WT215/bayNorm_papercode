{
 "cells": [
  {
   "cell_type": "code",
   "execution_count": 1,
   "metadata": {},
   "outputs": [
    {
     "name": "stderr",
     "output_type": "stream",
     "text": [
      "/home/wenhao/miniconda3/envs/tensorflow/lib/python3.6/site-packages/h5py/__init__.py:36: FutureWarning: Conversion of the second argument of issubdtype from `float` to `np.floating` is deprecated. In future, it will be treated as `np.float64 == np.dtype(float).type`.\n",
      "  from ._conv import register_converters as _register_converters\n"
     ]
    }
   ],
   "source": [
    "# make sure that rpy2 is installed: https://rpy2.bitbucket.io/\n",
    "%load_ext rpy2.ipython\n",
    "\n",
    "import warnings\n",
    "from rpy2.rinterface import RRuntimeWarning\n",
    "import rpy2.robjects as ro\n",
    "import rpy2.robjects.numpy2ri\n",
    "rpy2.robjects.numpy2ri.activate()\n",
    "\n",
    "# ignore R warning messages\n",
    "warnings.filterwarnings(\"ignore\", category=RRuntimeWarning)\n",
    "import anndata"
   ]
  },
  {
   "cell_type": "code",
   "execution_count": 2,
   "metadata": {},
   "outputs": [],
   "source": [
    "%%R -o N1_DAT  -o geneinfo_N1 -o cellinfo_N1 \n",
    "\n",
    "load('/home/wenhao/RAW_REAL/RAW_REAL/RAW_SCNORM_H9.RData')\n",
    "qq<-round(cbind(H9_p24,H9_p96)[whichg_H9,])\n",
    "\n",
    "cellinfo_N1<-data.frame(Cell=colnames(qq))\n",
    "geneinfo_N1<-data.frame(Gene=rownames(qq))\n",
    "\n",
    "N1_DAT<-as.data.frame(t(qq))\n"
   ]
  },
  {
   "cell_type": "code",
   "execution_count": 3,
   "metadata": {},
   "outputs": [
    {
     "name": "stderr",
     "output_type": "stream",
     "text": [
      "Using TensorFlow backend.\n"
     ]
    }
   ],
   "source": [
    "import numpy as np\n",
    "import matplotlib.pyplot as plt\n",
    "import seaborn as sns\n",
    "import scanpy.api as sc\n",
    "import DCA.api as dca"
   ]
  },
  {
   "cell_type": "code",
   "execution_count": 4,
   "metadata": {},
   "outputs": [
    {
     "data": {
      "text/plain": [
       "AnnData object with n_obs × n_vars = 182 × 13195 \n",
       "    obs: 'Cell'\n",
       "    var: 'Gene'"
      ]
     },
     "execution_count": 4,
     "metadata": {},
     "output_type": "execute_result"
    }
   ],
   "source": [
    "adata_N1 = sc.AnnData(N1_DAT.values,var=geneinfo_N1,obs=cellinfo_N1)\n",
    "adata_N1.var_names = geneinfo_N1.Gene\n",
    "adata_N1.obs_names = cellinfo_N1.Cell\n",
    "adata_N1\n"
   ]
  },
  {
   "cell_type": "code",
   "execution_count": null,
   "metadata": {},
   "outputs": [
    {
     "name": "stdout",
     "output_type": "stream",
     "text": [
      "### Autoencoder: Successfully preprocessed 13195 genes and 182 cells.\n"
     ]
    }
   ],
   "source": [
    "%%time\n",
    "\n",
    "res_N1 = dca.autoencode(adata_N1, training_kwargs={'verbose': False})\n"
   ]
  },
  {
   "cell_type": "code",
   "execution_count": null,
   "metadata": {},
   "outputs": [],
   "source": [
    "N1= res_N1.obsm['X_dca']\n",
    "nr,nc = N1.shape\n",
    "Br = ro.r.matrix(N1, nrow=nr, ncol=nc)\n",
    "ro.r.assign(\"DCA_H9\", Br)"
   ]
  },
  {
   "cell_type": "code",
   "execution_count": null,
   "metadata": {},
   "outputs": [],
   "source": [
    "%%R\n",
    "DCA_H9<-t(DCA_H9)\n",
    "rownames(DCA_H9)<-geneinfo_N1[,1]\n",
    "colnames(DCA_H9)<-cellinfo_N1[,1]\n",
    "\n",
    "save(DCA_H9,file='/home/wenhao/RAW_REAL/DCA_norm/DCA_H9.RData')"
   ]
  }
 ],
 "metadata": {
  "kernelspec": {
   "display_name": "Python 3",
   "language": "python",
   "name": "python3"
  },
  "language_info": {
   "codemirror_mode": {
    "name": "ipython",
    "version": 3
   },
   "file_extension": ".py",
   "mimetype": "text/x-python",
   "name": "python",
   "nbconvert_exporter": "python",
   "pygments_lexer": "ipython3",
   "version": "3.6.5"
  }
 },
 "nbformat": 4,
 "nbformat_minor": 2
}
