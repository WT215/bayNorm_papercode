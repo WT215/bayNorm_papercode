{
 "cells": [
  {
   "cell_type": "code",
   "execution_count": 1,
   "metadata": {},
   "outputs": [
    {
     "name": "stderr",
     "output_type": "stream",
     "text": [
      "/home/wenhao/miniconda3/envs/tensorflow/lib/python3.6/site-packages/h5py/__init__.py:36: FutureWarning: Conversion of the second argument of issubdtype from `float` to `np.floating` is deprecated. In future, it will be treated as `np.float64 == np.dtype(float).type`.\n",
      "  from ._conv import register_converters as _register_converters\n"
     ]
    }
   ],
   "source": [
    "# make sure that rpy2 is installed: https://rpy2.bitbucket.io/\n",
    "%load_ext rpy2.ipython\n",
    "\n",
    "import warnings\n",
    "from rpy2.rinterface import RRuntimeWarning\n",
    "import rpy2.robjects as ro\n",
    "import rpy2.robjects.numpy2ri\n",
    "rpy2.robjects.numpy2ri.activate()\n",
    "\n",
    "# ignore R warning messages\n",
    "warnings.filterwarnings(\"ignore\", category=RRuntimeWarning)\n",
    "import anndata"
   ]
  },
  {
   "cell_type": "code",
   "execution_count": 5,
   "metadata": {},
   "outputs": [],
   "source": [
    "%%R -o N1_DAT  -o geneinfo_N1 -o cellinfo_N1 \n",
    "\n",
    "load('/home/wenhao/RAW_6SIM/RAW_SIM_1.RData' )\n",
    "\n",
    "cellinfo_N1<-data.frame(Cell=colnames(RAW_DAT))\n",
    "geneinfo_N1<-data.frame(Gene=rownames(RAW_DAT))\n",
    "\n",
    "N1_DAT<-as.data.frame(t(RAW_DAT))\n"
   ]
  },
  {
   "cell_type": "code",
   "execution_count": 3,
   "metadata": {},
   "outputs": [
    {
     "name": "stderr",
     "output_type": "stream",
     "text": [
      "Using TensorFlow backend.\n"
     ]
    }
   ],
   "source": [
    "import numpy as np\n",
    "import matplotlib.pyplot as plt\n",
    "import seaborn as sns\n",
    "import scanpy.api as sc\n",
    "import DCA.api as dca"
   ]
  },
  {
   "cell_type": "code",
   "execution_count": 4,
   "metadata": {},
   "outputs": [
    {
     "ename": "NameError",
     "evalue": "name 'RAW_DAT' is not defined",
     "output_type": "error",
     "traceback": [
      "\u001b[0;31m---------------------------------------------------------------------------\u001b[0m",
      "\u001b[0;31mNameError\u001b[0m                                 Traceback (most recent call last)",
      "\u001b[0;32m<ipython-input-4-9d94c85de5f2>\u001b[0m in \u001b[0;36m<module>\u001b[0;34m()\u001b[0m\n\u001b[0;32m----> 1\u001b[0;31m \u001b[0madata_N1\u001b[0m \u001b[0;34m=\u001b[0m \u001b[0msc\u001b[0m\u001b[0;34m.\u001b[0m\u001b[0mAnnData\u001b[0m\u001b[0;34m(\u001b[0m\u001b[0mRAW_DAT\u001b[0m\u001b[0;34m.\u001b[0m\u001b[0mvalues\u001b[0m\u001b[0;34m,\u001b[0m\u001b[0mvar\u001b[0m\u001b[0;34m=\u001b[0m\u001b[0mgeneinfo_N1\u001b[0m\u001b[0;34m,\u001b[0m\u001b[0mobs\u001b[0m\u001b[0;34m=\u001b[0m\u001b[0mcellinfo_N1\u001b[0m\u001b[0;34m)\u001b[0m\u001b[0;34m\u001b[0m\u001b[0m\n\u001b[0m\u001b[1;32m      2\u001b[0m \u001b[0madata_N1\u001b[0m\u001b[0;34m.\u001b[0m\u001b[0mvar_names\u001b[0m \u001b[0;34m=\u001b[0m \u001b[0mgeneinfo_N1\u001b[0m\u001b[0;34m.\u001b[0m\u001b[0mGene\u001b[0m\u001b[0;34m\u001b[0m\u001b[0m\n\u001b[1;32m      3\u001b[0m \u001b[0madata_N1\u001b[0m\u001b[0;34m.\u001b[0m\u001b[0mobs_names\u001b[0m \u001b[0;34m=\u001b[0m \u001b[0mcellinfo_N1\u001b[0m\u001b[0;34m.\u001b[0m\u001b[0mCell\u001b[0m\u001b[0;34m\u001b[0m\u001b[0m\n\u001b[1;32m      4\u001b[0m \u001b[0madata_N1\u001b[0m\u001b[0;34m\u001b[0m\u001b[0m\n",
      "\u001b[0;31mNameError\u001b[0m: name 'RAW_DAT' is not defined"
     ]
    }
   ],
   "source": [
    "adata_N1 = sc.AnnData(N1_DAT.values,var=geneinfo_N1,obs=cellinfo_N1)\n",
    "adata_N1.var_names = geneinfo_N1.Gene\n",
    "adata_N1.obs_names = cellinfo_N1.Cell\n",
    "adata_N1\n"
   ]
  },
  {
   "cell_type": "code",
   "execution_count": 6,
   "metadata": {},
   "outputs": [
    {
     "name": "stdout",
     "output_type": "stream",
     "text": [
      "### Autoencoder: Successfully preprocessed 9289 genes and 1134 cells.\n",
      "Calculating low dimensional representations...\n",
      "Calculating reconstructions...\n",
      "CPU times: user 6min 20s, sys: 3min 45s, total: 10min 5s\n",
      "Wall time: 1min 53s\n"
     ]
    }
   ],
   "source": [
    "%%time\n",
    "\n",
    "res_N1 = dca.autoencode(adata_N1, training_kwargs={'verbose': False})\n"
   ]
  },
  {
   "cell_type": "code",
   "execution_count": 7,
   "metadata": {},
   "outputs": [
    {
     "data": {
      "text/html": [
       "\n",
       "    <span>Matrix with 10533726 elements.</span>\n",
       "    <table>\n",
       "      <tbody>\n",
       "      <tr>\n",
       "      \n",
       "      <td>\n",
       "        0.452157\n",
       "      </td>\n",
       "      \n",
       "      <td>\n",
       "        0.255030\n",
       "      </td>\n",
       "      \n",
       "      <td>\n",
       "        0.226353\n",
       "      </td>\n",
       "      \n",
       "      <td>\n",
       "        0.400834\n",
       "      </td>\n",
       "      \n",
       "      <td>\n",
       "        ...\n",
       "      </td>\n",
       "      \n",
       "      <td>\n",
       "        0.197419\n",
       "      </td>\n",
       "      \n",
       "      <td>\n",
       "        0.247332\n",
       "      </td>\n",
       "      \n",
       "      <td>\n",
       "        0.084920\n",
       "      </td>\n",
       "      \n",
       "      <td>\n",
       "        0.209415\n",
       "      </td>\n",
       "      \n",
       "      </tr>\n",
       "      </tbody>\n",
       "    </table>\n",
       "    "
      ],
      "text/plain": [
       "R object with classes: ('matrix',) mapped to:\n",
       "<Matrix - Python:0x7fd876f4a488 / R:0x7fd7cada2010>\n",
       "[0.452157, 0.255030, 0.226353, 0.400834, ..., 0.197419, 0.247332, 0.084920, 0.209415]"
      ]
     },
     "execution_count": 7,
     "metadata": {},
     "output_type": "execute_result"
    }
   ],
   "source": [
    "N1= res_N1.obsm['X_dca']\n",
    "nr,nc = N1.shape\n",
    "Br = ro.r.matrix(N1, nrow=nr, ncol=nc)\n",
    "ro.r.assign(\"DCA_RAW_DAT\", Br)"
   ]
  },
  {
   "cell_type": "code",
   "execution_count": 8,
   "metadata": {},
   "outputs": [],
   "source": [
    "%%R\n",
    "DCA_out<-t(DCA_RAW_DAT)\n",
    "rownames(DCA_out)<-geneinfo_N1[,1]\n",
    "colnames(DCA_out)<-cellinfo_N1[,1]\n",
    "\n",
    "save(DCA_out,file='/home/wenhao/RAW_6SIM/DCA_SIM/DCA_SIM_1.RData')"
   ]
  }
 ],
 "metadata": {
  "kernelspec": {
   "display_name": "Python 3",
   "language": "python",
   "name": "python3"
  },
  "language_info": {
   "codemirror_mode": {
    "name": "ipython",
    "version": 3
   },
   "file_extension": ".py",
   "mimetype": "text/x-python",
   "name": "python",
   "nbconvert_exporter": "python",
   "pygments_lexer": "ipython3",
   "version": "3.6.5"
  }
 },
 "nbformat": 4,
 "nbformat_minor": 2
}
