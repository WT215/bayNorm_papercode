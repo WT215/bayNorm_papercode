{
 "cells": [
  {
   "cell_type": "code",
   "execution_count": 3,
   "metadata": {},
   "outputs": [
    {
     "name": "stdout",
     "output_type": "stream",
     "text": [
      "The rpy2.ipython extension is already loaded. To reload it, use:\n",
      "  %reload_ext rpy2.ipython\n"
     ]
    }
   ],
   "source": [
    "# make sure that rpy2 is installed: https://rpy2.bitbucket.io/\n",
    "%load_ext rpy2.ipython\n",
    "\n",
    "import warnings\n",
    "from rpy2.rinterface import RRuntimeWarning\n",
    "import rpy2.robjects as ro\n",
    "import rpy2.robjects.numpy2ri\n",
    "rpy2.robjects.numpy2ri.activate()\n",
    "\n",
    "# ignore R warning messages\n",
    "warnings.filterwarnings(\"ignore\", category=RRuntimeWarning)\n",
    "import anndata"
   ]
  },
  {
   "cell_type": "code",
   "execution_count": 5,
   "metadata": {},
   "outputs": [],
   "source": [
    "%%R -o N1_DAT -o N2_DAT  -o geneinfo_2i -o geneinfo_serum -o cellinfo_2i -o cellinfo_serum\n",
    "\n",
    "load('/home/wenhao/RAW_REAL/RAW_REAL/RAW_GRUN_2i.RData')\n",
    "load('/home/wenhao/RAW_REAL/RAW_REAL/RAW_GRUN_serum.RData')\n",
    "\n",
    "cellinfo_2i<-data.frame(Cell=colnames(CountsUMI_SC_2i))\n",
    "cellinfo_serum<-data.frame(Cell=colnames(CountsUMI_SC_serum))\n",
    "\n",
    "\n",
    "geneinfo_2i<-data.frame(Gene=rownames(CountsUMI_SC_2i))\n",
    "geneinfo_serum<-data.frame(Gene=rownames(CountsUMI_SC_serum))\n",
    "\n",
    "N1_DAT<-as.data.frame(t(CountsUMI_SC_2i))\n",
    "N2_DAT<-as.data.frame(t(CountsUMI_SC_serum))\n",
    "\n",
    "\n"
   ]
  },
  {
   "cell_type": "code",
   "execution_count": 6,
   "metadata": {},
   "outputs": [
    {
     "name": "stderr",
     "output_type": "stream",
     "text": [
      "Using TensorFlow backend.\n"
     ]
    }
   ],
   "source": [
    "import numpy as np\n",
    "import matplotlib.pyplot as plt\n",
    "import seaborn as sns\n",
    "import scanpy.api as sc\n",
    "import DCA.api as dca"
   ]
  },
  {
   "cell_type": "code",
   "execution_count": 7,
   "metadata": {},
   "outputs": [
    {
     "data": {
      "text/plain": [
       "AnnData object with n_obs × n_vars = 52 × 9440 \n",
       "    obs: 'Cell'\n",
       "    var: 'Gene'"
      ]
     },
     "execution_count": 7,
     "metadata": {},
     "output_type": "execute_result"
    }
   ],
   "source": [
    "adata_N1 = sc.AnnData(N1_DAT.values,var=geneinfo_2i,obs=cellinfo_2i)\n",
    "adata_N1.var_names = geneinfo_2i.Gene\n",
    "adata_N1.obs_names = cellinfo_2i.Cell\n",
    "adata_N1\n",
    "\n",
    "adata_N2 = sc.AnnData(N2_DAT.values,var=geneinfo_serum,obs=cellinfo_serum)\n",
    "adata_N2.var_names = geneinfo_serum.Gene\n",
    "adata_N2.obs_names = cellinfo_serum.Cell\n",
    "adata_N2\n"
   ]
  },
  {
   "cell_type": "code",
   "execution_count": 8,
   "metadata": {},
   "outputs": [
    {
     "name": "stdout",
     "output_type": "stream",
     "text": [
      "### Autoencoder: Successfully preprocessed 9377 genes and 74 cells.\n",
      "Calculating low dimensional representations...\n",
      "Calculating reconstructions...\n",
      "### Autoencoder: Successfully preprocessed 9440 genes and 52 cells.\n",
      "Calculating low dimensional representations...\n",
      "Calculating reconstructions...\n",
      "CPU times: user 2min 6s, sys: 1min 22s, total: 3min 28s\n",
      "Wall time: 44.9 s\n"
     ]
    }
   ],
   "source": [
    "%%time\n",
    "\n",
    "res_N1 = dca.autoencode(adata_N1, training_kwargs={'verbose': False})\n",
    "res_N2 = dca.autoencode(adata_N2, training_kwargs={'verbose': False})"
   ]
  },
  {
   "cell_type": "code",
   "execution_count": 9,
   "metadata": {},
   "outputs": [
    {
     "data": {
      "text/html": [
       "\n",
       "    <span>Matrix with 490880 elements.</span>\n",
       "    <table>\n",
       "      <tbody>\n",
       "      <tr>\n",
       "      \n",
       "      <td>\n",
       "        0.778548\n",
       "      </td>\n",
       "      \n",
       "      <td>\n",
       "        2.408997\n",
       "      </td>\n",
       "      \n",
       "      <td>\n",
       "        2.243226\n",
       "      </td>\n",
       "      \n",
       "      <td>\n",
       "        1.093822\n",
       "      </td>\n",
       "      \n",
       "      <td>\n",
       "        ...\n",
       "      </td>\n",
       "      \n",
       "      <td>\n",
       "        2.788074\n",
       "      </td>\n",
       "      \n",
       "      <td>\n",
       "        3.133133\n",
       "      </td>\n",
       "      \n",
       "      <td>\n",
       "        3.212860\n",
       "      </td>\n",
       "      \n",
       "      <td>\n",
       "        3.053571\n",
       "      </td>\n",
       "      \n",
       "      </tr>\n",
       "      </tbody>\n",
       "    </table>\n",
       "    "
      ],
      "text/plain": [
       "R object with classes: ('matrix',) mapped to:\n",
       "<Matrix - Python:0x7f3399094cc8 / R:0x562ead388700>\n",
       "[0.778548, 2.408997, 2.243226, 1.093822, ..., 2.788074, 3.133133, 3.212860, 3.053571]"
      ]
     },
     "execution_count": 9,
     "metadata": {},
     "output_type": "execute_result"
    }
   ],
   "source": [
    "N1= res_N1.obsm['X_dca']\n",
    "nr,nc = N1.shape\n",
    "Br = ro.r.matrix(N1, nrow=nr, ncol=nc)\n",
    "ro.r.assign(\"DCA_2i\", Br)\n",
    "\n",
    "\n",
    "N2= res_N2.obsm['X_dca']\n",
    "nr,nc = N2.shape\n",
    "Br = ro.r.matrix(N2, nrow=nr, ncol=nc)\n",
    "ro.r.assign(\"DCA_serum\", Br)\n"
   ]
  },
  {
   "cell_type": "code",
   "execution_count": 12,
   "metadata": {},
   "outputs": [],
   "source": [
    "%%R\n",
    "DCA_2i<-t(DCA_2i)\n",
    "rownames(DCA_2i)<-geneinfo_2i[,1]\n",
    "colnames(DCA_2i)<-cellinfo_2i[,1]\n",
    "\n",
    "DCA_serum<-t(DCA_serum)\n",
    "rownames(DCA_serum)<-geneinfo_serum[,1]\n",
    "colnames(DCA_serum)<-cellinfo_serum[,1]\n",
    "\n",
    "\n",
    "save(DCA_serum,DCA_2i,file='/home/wenhao/RAW_REAL/DCA_norm/DCA_Grun.RData')\n",
    "\n",
    "\n",
    "\n",
    "\n",
    "\n"
   ]
  }
 ],
 "metadata": {
  "kernelspec": {
   "display_name": "Python 3",
   "language": "python",
   "name": "python3"
  },
  "language_info": {
   "codemirror_mode": {
    "name": "ipython",
    "version": 3
   },
   "file_extension": ".py",
   "mimetype": "text/x-python",
   "name": "python",
   "nbconvert_exporter": "python",
   "pygments_lexer": "ipython3",
   "version": "3.6.5"
  }
 },
 "nbformat": 4,
 "nbformat_minor": 2
}
